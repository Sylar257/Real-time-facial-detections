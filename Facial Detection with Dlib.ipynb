{
 "cells": [
  {
   "cell_type": "markdown",
   "metadata": {},
   "source": [
    "# Facial detection + landmark detection with Dlib"
   ]
  },
  {
   "cell_type": "code",
   "execution_count": 1,
   "metadata": {},
   "outputs": [],
   "source": [
    "# import the necessary packages\n",
    "from imutils import face_utils\n",
    "from imutils.video import VideoStream\n",
    "import numpy as np\n",
    "import datetime\n",
    "import time\n",
    "import imutils\n",
    "import dlib\n",
    "import cv2"
   ]
  },
  {
   "cell_type": "code",
   "execution_count": 2,
   "metadata": {},
   "outputs": [],
   "source": [
    "def rect_to_bb(rect):\n",
    "    # take a bounding predicted by dlib and convert it\n",
    "    # to the format (x, y, w, h) as we would normally do\n",
    "    # with OpenCV\n",
    "    x = rect.left()\n",
    "    y = rect.top()\n",
    "    w = rect.right() - x\n",
    "    h = rect.bottom() - y\n",
    "\n",
    "    # return a tuple of (x, y, w, h)\n",
    "    return (x, y, w, h)"
   ]
  },
  {
   "cell_type": "code",
   "execution_count": 3,
   "metadata": {},
   "outputs": [],
   "source": [
    "def shape_to_np(shape, dtype=\"int\"):\n",
    "    # initialize the list of (x, y)-coordinates\n",
    "    coords = np.zeros((68, 2), dtype=dtype)\n",
    "\n",
    "    # loop over the 68 facial landmarks and convert them\n",
    "    # to a 2-tuple of (x, y)-coordinates\n",
    "    for i in range(0, 68):\n",
    "        coords[i] = (shape.part(i).x, shape.part(i).y)\n",
    "\n",
    "    # return the list of (x, y)-coordinates\n",
    "    return coords"
   ]
  },
  {
   "cell_type": "markdown",
   "metadata": {},
   "source": [
    "### Dlib facial detector\n",
    "Instead of using **Haar cascades** built in OpenCV, we apply **Dlib's** facial detection which is based on <span style=\"color:red\">**\"HOG + Linear SVM object detector\"**</span>"
   ]
  },
  {
   "cell_type": "markdown",
   "metadata": {},
   "source": [
    "## Note on `imutils.VideoStream`\n",
    "\n",
    "* Specify `usePiCamera=1` if using Rasberry Pi camera.\n",
    "* Specify `usePiCamera=0` to use `self.stream = WebcamVideoStream(src=src)`"
   ]
  },
  {
   "cell_type": "code",
   "execution_count": 6,
   "metadata": {},
   "outputs": [
    {
     "name": "stdout",
     "output_type": "stream",
     "text": [
      "[INFO] loading facial landmark predictor...\n",
      "[INFO] camera sensor warming up...\n"
     ]
    }
   ],
   "source": [
    "# initialize dlib's face detector (HOG-based) and then create a facial landmark predictor\n",
    "print(\"[INFO] loading facial landmark predictor...\")\n",
    "detector = dlib.get_frontal_face_detector()\n",
    "predictor = dlib.shape_predictor(\"shape_predictor_68_face_landmarks.dat\")\n",
    "\n",
    "# initialize the video stream and warm up the camera\n",
    "print(\"[INFO] camera sensor warming up...\")\n",
    "vs = VideoStream(usePiCamera=0).start()\n",
    "time.sleep(2.0)\n",
    "\n",
    "while True:\n",
    "    # load image rescale and convert it to grayscale\n",
    "    frame = vs.read()\n",
    "    frame = imutils.resize(frame, width=400)\n",
    "    gray = cv2.cvtColor(frame,cv2.COLOR_BGR2GRAY)\n",
    "\n",
    "    # detect the face in grayscale image\n",
    "    rects = detector(gray,0)\n",
    "    \n",
    "    for (i,rect) in enumerate(rects):\n",
    "        # now each \"rect\" contains only one face, then we determine the facial landmarks of \n",
    "        # each face and convert tha facial landmarks into numpy array\n",
    "        shape = predictor(gray,rect)\n",
    "        shape = shape_to_np(shape)\n",
    "        \n",
    "        # conver dlib's rectangle to a OpenCV-style bounding box\n",
    "        # i.e., (x,y,w,h), then draw the face bounidng box\n",
    "        (x,y,w,h) = rect_to_bb(rect)\n",
    "        cv2.rectangle(frame, (x,y),(x+w, y+h), (0,255,0), 2)\n",
    "\n",
    "        # show the face number\n",
    "        cv2.putText(frame, f\"Face #{i+1}\", (x-10, y-10), \n",
    "                    cv2.FONT_HERSHEY_SIMPLEX, 0.5, (0,255,0),2)\n",
    "\n",
    "        # loop over the (x,y)-coordinates for the facial landmarks\n",
    "        # and draw them on the image\n",
    "        for (x,y) in shape:\n",
    "            cv2.circle(frame, (x,y), 1, (0,0,255), -1)\n",
    "            \n",
    "            # show the frame\n",
    "    cv2.imshow(\"Frame\", frame)\n",
    "    key = cv2.waitKey(1) & 0xFF\n",
    "\n",
    "    # if the `q` key was pressed, break from the loop\n",
    "    if key == ord(\"q\"):\n",
    "        break\n",
    "# do a bit of cleanup\n",
    "cv2.destroyAllWindows()\n",
    "vs.stop()"
   ]
  },
  {
   "cell_type": "code",
   "execution_count": null,
   "metadata": {},
   "outputs": [],
   "source": []
  },
  {
   "cell_type": "markdown",
   "metadata": {},
   "source": [
    "## Break down of detailed code"
   ]
  },
  {
   "cell_type": "code",
   "execution_count": null,
   "metadata": {},
   "outputs": [],
   "source": [
    "# load image rescale and convert it to grayscale\n",
    "image = vs.read()\n",
    "image = imutils.resize(image, width=400)\n",
    "gray = cv2.cvtColor(image,cv2.COLOR_BGR2GRAY)\n",
    "\n",
    "# detect the face in grayscale image\n",
    "rects = detector(gray,1)"
   ]
  },
  {
   "cell_type": "markdown",
   "metadata": {},
   "source": [
    "In the `detector()` function. The *first argument* is the gray scale image, and the *second argument* **`1`** is the **number of image pyramid layers** to apply when upscaling the image prior to applying the detector. (given bigger input image, we can increase the depth of the pyramid and the computational power increases accordingly)"
   ]
  },
  {
   "cell_type": "markdown",
   "metadata": {},
   "source": [
    "## Dlib landmark detection"
   ]
  },
  {
   "cell_type": "code",
   "execution_count": null,
   "metadata": {},
   "outputs": [],
   "source": [
    "# loop over the face detections\n",
    "for (i, rect) in enumerate(rects):\n",
    "    # determine the facial landmarks for the face region, then\n",
    "    # convert the facial landmark (x,y)-coordinates to a NP.array\n",
    "    shape = predictor(gray, rect)\n",
    "    shape = shape_to_np(shape)\n",
    "    \n",
    "    # conver dlib's rectangle to a OpenCV-style bounding box\n",
    "    # i.e., (x,y,w,h), then draw the face bounidng box\n",
    "    (x,y,w,h) = rect_to_bb(rect)\n",
    "    cv2.rectangle(image, (x,y),(x+w, y+h), (0,255,0), 2)\n",
    "    \n",
    "    # show the face number\n",
    "    cv2.putText(image, f\"Face #{i+1}\", (x-10, y-10), \n",
    "                cv2.FONT_HERSHEY_SIMPLEX, 0.5, (0,255,0),2)\n",
    "    \n",
    "    # loop over the (x,y)-coordinates for the facial landmarks\n",
    "    # and draw them on the image\n",
    "    for (x,y) in shape:\n",
    "        cv2.circle(image, (x,y), 1, (0,0,255), -1)\n",
    "\n",
    "        \n",
    "# show the output image with face detection + landmarks\n",
    "cv2.imshow(\"output\", image)\n",
    "cv2.waitKey(0)\n",
    "# cv2.destroyAllWindows()"
   ]
  },
  {
   "cell_type": "code",
   "execution_count": null,
   "metadata": {},
   "outputs": [],
   "source": []
  }
 ],
 "metadata": {
  "kernelspec": {
   "display_name": "Python 3",
   "language": "python",
   "name": "python3"
  },
  "language_info": {
   "codemirror_mode": {
    "name": "ipython",
    "version": 3
   },
   "file_extension": ".py",
   "mimetype": "text/x-python",
   "name": "python",
   "nbconvert_exporter": "python",
   "pygments_lexer": "ipython3",
   "version": "3.6.8"
  }
 },
 "nbformat": 4,
 "nbformat_minor": 2
}
